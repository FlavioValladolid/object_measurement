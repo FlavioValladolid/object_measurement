{
 "cells": [
  {
   "cell_type": "code",
   "execution_count": 12,
   "metadata": {},
   "outputs": [],
   "source": [
    "import cv2\n",
    "import utlis\n",
    "#from object_detector import *"
   ]
  },
  {
   "cell_type": "code",
   "execution_count": 13,
   "metadata": {},
   "outputs": [
    {
     "ename": "KeyboardInterrupt",
     "evalue": "",
     "output_type": "error",
     "traceback": [
      "\u001b[1;31m---------------------------------------------------------------------------\u001b[0m",
      "\u001b[1;31mKeyboardInterrupt\u001b[0m                         Traceback (most recent call last)",
      "\u001b[1;32mc:\\Users\\fvalladolid\\Documents\\Proyectos Python\\Object Measure - Computer Vision\\ObjectMeasurement.ipynb Cell 2\u001b[0m line \u001b[0;36m3\n\u001b[0;32m      <a href='vscode-notebook-cell:/c%3A/Users/fvalladolid/Documents/Proyectos%20Python/Object%20Measure%20-%20Computer%20Vision/ObjectMeasurement.ipynb#W1sZmlsZQ%3D%3D?line=0'>1</a>\u001b[0m webcam \u001b[39m=\u001b[39m \u001b[39mFalse\u001b[39;00m\n\u001b[0;32m      <a href='vscode-notebook-cell:/c%3A/Users/fvalladolid/Documents/Proyectos%20Python/Object%20Measure%20-%20Computer%20Vision/ObjectMeasurement.ipynb#W1sZmlsZQ%3D%3D?line=1'>2</a>\u001b[0m path \u001b[39m=\u001b[39m \u001b[39m\"\u001b[39m\u001b[39m1.jpeg\u001b[39m\u001b[39m\"\u001b[39m\n\u001b[1;32m----> <a href='vscode-notebook-cell:/c%3A/Users/fvalladolid/Documents/Proyectos%20Python/Object%20Measure%20-%20Computer%20Vision/ObjectMeasurement.ipynb#W1sZmlsZQ%3D%3D?line=2'>3</a>\u001b[0m cap \u001b[39m=\u001b[39m cv2\u001b[39m.\u001b[39;49mVideoCapture(\u001b[39m0\u001b[39;49m)\n\u001b[0;32m      <a href='vscode-notebook-cell:/c%3A/Users/fvalladolid/Documents/Proyectos%20Python/Object%20Measure%20-%20Computer%20Vision/ObjectMeasurement.ipynb#W1sZmlsZQ%3D%3D?line=3'>4</a>\u001b[0m cap\u001b[39m.\u001b[39mset(\u001b[39m10\u001b[39m,\u001b[39m160\u001b[39m)\n\u001b[0;32m      <a href='vscode-notebook-cell:/c%3A/Users/fvalladolid/Documents/Proyectos%20Python/Object%20Measure%20-%20Computer%20Vision/ObjectMeasurement.ipynb#W1sZmlsZQ%3D%3D?line=4'>5</a>\u001b[0m cap\u001b[39m.\u001b[39mset(\u001b[39m3\u001b[39m,\u001b[39m1920\u001b[39m)\n",
      "\u001b[1;31mKeyboardInterrupt\u001b[0m: "
     ]
    }
   ],
   "source": [
    "webcam = False\n",
    "path = \"1.jpeg\"\n",
    "cap = cv2.VideoCapture(0)\n",
    "cap.set(10,160)\n",
    "cap.set(3,1920)\n",
    "cap.set(4,1080)\n",
    "\n",
    "while True:\n",
    "    if webcam:\n",
    "        success,img = cap.read()\n",
    "    else: \n",
    "        img = cv2.imread(path)\n",
    "    \n",
    "    utlis.getContours(img,showCanny=True)\n",
    "\n",
    "    img = cv2.resize(img,(0,0),None,0.5,0.5)\n",
    "    cv2.imshow('Original',img)\n",
    "    cv2.waitKey(1)\n",
    "\n",
    "\n",
    "    # https://www.youtube.com/watch?v=tk9war7_y0Q 13:45"
   ]
  }
 ],
 "metadata": {
  "kernelspec": {
   "display_name": "Python 3",
   "language": "python",
   "name": "python3"
  },
  "language_info": {
   "codemirror_mode": {
    "name": "ipython",
    "version": 3
   },
   "file_extension": ".py",
   "mimetype": "text/x-python",
   "name": "python",
   "nbconvert_exporter": "python",
   "pygments_lexer": "ipython3",
   "version": "3.11.3"
  }
 },
 "nbformat": 4,
 "nbformat_minor": 2
}
